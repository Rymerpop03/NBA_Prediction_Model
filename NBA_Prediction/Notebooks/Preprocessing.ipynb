{
 "cells": [
  {
   "cell_type": "code",
   "execution_count": 1,
   "id": "ffb4deef",
   "metadata": {},
   "outputs": [],
   "source": [
    "import pandas as pd\n",
    "import numpy as np"
   ]
  },
  {
   "cell_type": "code",
   "execution_count": 2,
   "id": "c1bdff58",
   "metadata": {},
   "outputs": [],
   "source": [
    "data = pd.read_csv(\"C:/Users/poke5/Desktop/Projects/NBA_Prediction/data/Regular_Season_Total_Data.csv\")"
   ]
  },
  {
   "cell_type": "code",
   "execution_count": 3,
   "id": "cca86d01",
   "metadata": {},
   "outputs": [],
   "source": [
    "data['GAME_DATE'] = pd.to_datetime(data['GAME_DATE'])\n",
    "data['Home'] = data['MATCHUP'].str.contains('vs\\\\.')"
   ]
  },
  {
   "cell_type": "code",
   "execution_count": 4,
   "id": "d558b336",
   "metadata": {},
   "outputs": [],
   "source": [
    "# Feature engineering\n",
    "def compute_eff_index(df):\n",
    "    df = df.copy()\n",
    "    df['MissedFG'] = np.maximum(df['FGA'] - df['FGM'], 0)\n",
    "    df['MissedFT'] = np.maximum(df['FTA'] - df['FTM'], 0)\n",
    "    df['TSA'] = df['FGA'] + 0.44 * df['FTA']\n",
    "    df['TS'] = np.where(df['TSA'] > 0, df['PTS'] / (2 * df['TSA']), np.nan)\n",
    "    df['TS_Pct'] = df['TS'] * 100\n",
    "    df['EffIndex'] = df['PTS'] + df['REB'] + df['AST'] + df['STL'] + df['BLK'] - (df['MissedFG'] + df['MissedFT'] + df['TOV'])\n",
    "    df['FG_Eff'] = df['FGM'] / (df['FGA'] + 1)\n",
    "    df['RebRatio'] = df['OREB'] / (df['OREB'] + df['DREB'] + 1)\n",
    "    return df\n",
    "\n",
    "data = compute_eff_index(data)"
   ]
  },
  {
   "cell_type": "code",
   "execution_count": 5,
   "id": "256da6c7",
   "metadata": {},
   "outputs": [],
   "source": [
    "def make_rolling(series, window=10):\n",
    "    return series.rolling(window=window, min_periods=1).mean().shift(1)"
   ]
  },
  {
   "cell_type": "code",
   "execution_count": 6,
   "id": "f16b851f",
   "metadata": {},
   "outputs": [
    {
     "name": "stderr",
     "output_type": "stream",
     "text": [
      "C:\\Users\\poke5\\AppData\\Local\\Temp\\ipykernel_28388\\1456629977.py:6: FutureWarning: DataFrameGroupBy.apply operated on the grouping columns. This behavior is deprecated, and in a future version of pandas the grouping columns will be excluded from the operation. Either pass `include_groups=False` to exclude the groupings or explicitly select the grouping columns after groupby to silence this warning.\n",
      "  .apply(lambda g: g.assign(\n"
     ]
    }
   ],
   "source": [
    "# Apply rolling features per team\n",
    "data = data.sort_values(['TEAM_ABBREVIATION', 'GAME_DATE'])\n",
    "# Compute rolling averages for individual features (10-game rolling, shifted to avoid leakage)\n",
    "data[['r10_MissedFG', 'r10_MissedFT', 'r10_TSA', 'r10_TS_Pct', 'r10_FG_Eff', 'r10_RebRatio', 'r10_TS']] = (\n",
    "    data.groupby('TEAM_ABBREVIATION', group_keys=False)\n",
    "        .apply(lambda g: g.assign(\n",
    "            r10_MissedFG=make_rolling(g['MissedFG']),\n",
    "            r10_MissedFT=make_rolling(g['MissedFT']),\n",
    "            r10_TSA=make_rolling(g['TSA']),\n",
    "            r10_TS_Pct=make_rolling(g['TS_Pct']),\n",
    "            r10_FG_Eff=make_rolling(g['FG_Eff']),\n",
    "            r10_RebRatio=make_rolling(g['RebRatio']),\n",
    "            r10_TS=make_rolling(g['TS'])\n",
    "        ))[['r10_MissedFG', 'r10_MissedFT', 'r10_TSA', 'r10_TS_Pct', 'r10_FG_Eff', 'r10_RebRatio', 'r10_TS']]\n",
    ")\n",
    "\n",
    "# Drop any rows missing the new rolling features\n",
    "data = data.dropna(subset=['r10_MissedFG', 'r10_MissedFT', 'r10_TSA', 'r10_TS_Pct', 'r10_FG_Eff', 'r10_RebRatio', 'r10_TS'])\n",
    "data_sorted = data.sort_values('GAME_DATE').reset_index(drop=True)"
   ]
  },
  {
   "cell_type": "code",
   "execution_count": 7,
   "id": "954c3bf9",
   "metadata": {},
   "outputs": [],
   "source": [
    "n = len(data_sorted)\n",
    "train_end = int(0.7 * n)\n",
    "test_end = int(0.9 * n)"
   ]
  },
  {
   "cell_type": "code",
   "execution_count": 8,
   "id": "8397be4a",
   "metadata": {},
   "outputs": [],
   "source": [
    "train_cutoff_date = data_sorted.loc[train_end, 'GAME_DATE']\n",
    "test_cutoff_date = data_sorted.loc[test_end, 'GAME_DATE']"
   ]
  },
  {
   "cell_type": "code",
   "execution_count": 9,
   "id": "85922c23",
   "metadata": {},
   "outputs": [],
   "source": [
    "train_data = data_sorted[data_sorted['GAME_DATE'] <= train_cutoff_date]\n",
    "test_data = data_sorted[(data_sorted['GAME_DATE'] > train_cutoff_date) & (data_sorted['GAME_DATE'] <= test_cutoff_date)]\n",
    "validation_data = data_sorted[data_sorted['GAME_DATE'] > test_cutoff_date]\n",
    "\n",
    "train_data.to_csv(\"C:/Users/poke5/Desktop/Projects/NBA_Prediction/data/processed/train.csv\", index=False)\n",
    "test_data.to_csv(\"C:/Users/poke5/Desktop/Projects/NBA_Prediction/data/processed/test.csv\", index=False)\n",
    "validation_data.to_csv(\"C:/Users/poke5/Desktop/Projects/NBA_Prediction/data/processed/validation.csv\", index=False)"
   ]
  }
 ],
 "metadata": {
  "kernelspec": {
   "display_name": "Python 3",
   "language": "python",
   "name": "python3"
  },
  "language_info": {
   "codemirror_mode": {
    "name": "ipython",
    "version": 3
   },
   "file_extension": ".py",
   "mimetype": "text/x-python",
   "name": "python",
   "nbconvert_exporter": "python",
   "pygments_lexer": "ipython3",
   "version": "3.11.9"
  }
 },
 "nbformat": 4,
 "nbformat_minor": 5
}
